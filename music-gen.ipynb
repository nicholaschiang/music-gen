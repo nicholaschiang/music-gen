{
 "cells": [
  {
   "cell_type": "code",
   "execution_count": 1,
   "metadata": {
    "collapsed": false
   },
   "outputs": [
    {
     "name": "stderr",
     "output_type": "stream",
     "text": [
      "Using Theano backend.\n",
      "WARNING (theano.sandbox.cuda): CUDA is installed, but device gpu is not available  (error: Unable to get the number of gpus available: unknown error)\n"
     ]
    }
   ],
   "source": [
    "# Few import statements\n",
    "import os\n",
    "import scipy.io.wavfile as wav\n",
    "import numpy as np\n",
    "import matplotlib.pyplot as plt\n",
    "from keras.models import Sequential\n",
    "from keras.layers.core import TimeDistributedDense\n",
    "from keras.layers.recurrent import LSTM\n",
    "from IPython.display import Audio\n",
    "from pipes import quote"
   ]
  },
  {
   "cell_type": "code",
   "execution_count": 2,
   "metadata": {
    "collapsed": true
   },
   "outputs": [],
   "source": [
    "def read_wav_as_np(file):\n",
    "    # wav.read returns the sampling rate per second  (as an int) and the data (as a numpy array)\n",
    "    data = wav.read(file)\n",
    "    # Normalize 16-bit input to [-1, 1] range\n",
    "    np_arr = data[1].astype('float32') / 32767.0\n",
    "    #np_arr = np.array(np_arr)\n",
    "    return np_arr, data[0]"
   ]
  },
  {
   "cell_type": "code",
   "execution_count": 3,
   "metadata": {
    "collapsed": true
   },
   "outputs": [],
   "source": [
    "def write_np_as_wav(X, sample_rate, file):\n",
    "    # Converting the tensor back to it's original form\n",
    "    Xnew = X * 32767.0\n",
    "    Xnew = Xnew.astype('int16')\n",
    "    # wav.write constructs the .wav file using the specified sample_rate and tensor\n",
    "    wav.write(file, sample_rate, Xnew)\n",
    "    return"
   ]
  },
  {
   "cell_type": "code",
   "execution_count": 4,
   "metadata": {
    "collapsed": true
   },
   "outputs": [],
   "source": [
    "def convert_sample_blocks_to_np_audio(blocks):\n",
    "    # Flattens the blocks into a single list\n",
    "    song_np = np.concatenate(blocks)\n",
    "    return song_np"
   ]
  },
  {
   "cell_type": "code",
   "execution_count": 5,
   "metadata": {
    "collapsed": true
   },
   "outputs": [],
   "source": [
    "def convert_np_audio_to_sample_blocks(song_np, block_size):\n",
    "\n",
    "    # Block lists initialised\n",
    "    block_lists = []\n",
    "\n",
    "    # total_samples holds the size of the numpy array\n",
    "    total_samples = song_np.shape[0]\n",
    "    # print('total_samples=',total_samples)\n",
    "\n",
    "    # num_samples_so_far is used to loop through the numpy array\n",
    "    num_samples_so_far = 0\n",
    "\n",
    "    while (num_samples_so_far < total_samples):\n",
    "\n",
    "        # Stores each block in the \"block\" variable\n",
    "        block = song_np[num_samples_so_far:num_samples_so_far + block_size]\n",
    "\n",
    "        if (block.shape[0] < block_size):\n",
    "            # this is to add 0's in the last block if it not completely filled\n",
    "            padding = np.zeros((block_size - block.shape[0],))\n",
    "            # block_size is 44100 which is fixed throughout whereas block.shape[0] for the last block is <=44100\n",
    "            block = np.concatenate((block,padding))\n",
    "        block_lists.append(block)\n",
    "        num_samples_so_far += block_size\n",
    "    return block_lists"
   ]
  },
  {
   "cell_type": "code",
   "execution_count": 6,
   "metadata": {
    "collapsed": true
   },
   "outputs": [],
   "source": [
    "def time_blocks_to_fft_blocks(blocks_time_domain):\n",
    "    # FFT blocks initialized\n",
    "    fft_blocks = []\n",
    "    for block in blocks_time_domain:\n",
    "        # Computes the one-dimensional discrete Fourier Transform and returns the complex nD array\n",
    "        # i.e The truncated or zero-padded input, transformed from time domain to frequency domain.\n",
    "        fft_block = np.fft.fft(block)\n",
    "        # Joins a sequence of blocks along frequency axis.\n",
    "        new_block = np.concatenate((np.real(fft_block), np.imag(fft_block)))\n",
    "        fft_blocks.append(new_block)\n",
    "    return fft_blocks"
   ]
  },
  {
   "cell_type": "code",
   "execution_count": 7,
   "metadata": {
    "collapsed": true
   },
   "outputs": [],
   "source": [
    "def fft_blocks_to_time_blocks(blocks_ft_domain):\n",
    "    # Time blocks initialized\n",
    "    time_blocks = []\n",
    "    for block in blocks_ft_domain:\n",
    "        num_elems = block.shape[0] / 2\n",
    "        # Extracts real part of the amplitude corresponding to the frequency\n",
    "        real_chunk = block[0:num_elems]\n",
    "        # Extracts imaginary part of the amplitude corresponding to the frequency\n",
    "        imag_chunk = block[num_elems:]\n",
    "        # Represents amplitude as a complex number corresponding to the frequency\n",
    "        new_block = real_chunk + 1.0j * imag_chunk\n",
    "        # Computes the one-dimensional discrete inverse Fourier Transform and returns the transformed\n",
    "        # block from frequency domain to time domain\n",
    "        time_block = np.fft.ifft(new_block)\n",
    "        # Joins a sequence of blocks along time axis.\n",
    "        time_blocks.append(time_block)\n",
    "    return time_blocks"
   ]
  },
  {
   "cell_type": "markdown",
   "metadata": {},
   "source": [
    "** Set desired sampling rate and block size. Also assign the path of the music file to _filename_ **"
   ]
  },
  {
   "cell_type": "code",
   "execution_count": 8,
   "metadata": {
    "collapsed": true
   },
   "outputs": [],
   "source": [
    "sample_frequency = 44100\n",
    "block_size = 44100\n",
    "filename = '/home/subbu/Desktop/Music Preprocessing/Bright Wish.mp3'"
   ]
  },
  {
   "cell_type": "code",
   "execution_count": 9,
   "metadata": {
    "collapsed": false
   },
   "outputs": [
    {
     "data": {
      "text/plain": [
       "0"
      ]
     },
     "execution_count": 9,
     "metadata": {},
     "output_type": "execute_result"
    }
   ],
   "source": [
    "files = filename.split('/')\n",
    "orig_filename = files[-1][0:-4]\n",
    "if (filename[0] == '/'):\n",
    "    new_path = '/'\n",
    "for i in range(len(files) - 1):\n",
    "    new_path += files[i] + '/'\n",
    "# We define the file names for the newly created WAV files and the Mono mp3 file\n",
    "filename_tmp = new_path + orig_filename + 'Mono.mp3'\n",
    "new_name = new_path + orig_filename + '.wav'\n",
    "\n",
    "# These lines calls LAME to resample the audio file at the standard analog frequency of 44,100 Hz and then convert it to WAV\n",
    "sample_freq_str = \"{0:.1f}\".format(float(sample_frequency) / 1000.0)\n",
    "cmd = 'lame -a -m m {0} {1}'.format(quote(filename), quote(filename_tmp))\n",
    "os.system(cmd)\n",
    "cmd = 'lame --decode {0} {1} --resample {2}'.format(quote(filename_tmp), quote(new_name), sample_freq_str)\n",
    "os.system(cmd)"
   ]
  },
  {
   "cell_type": "markdown",
   "metadata": {},
   "source": [
    "** Mono version and WAV version of the input MP3 file can now be found in the directory containing the input MP3 file. **\n"
   ]
  },
  {
   "cell_type": "markdown",
   "metadata": {},
   "source": [
    "** Visualizing the WAV file **\n"
   ]
  },
  {
   "cell_type": "code",
   "execution_count": 10,
   "metadata": {
    "collapsed": false
   },
   "outputs": [
    {
     "data": {
      "image/png": "[encoded data removed]",
      "text/plain": [
       "<matplotlib.figure.Figure at 0x7f2aa8fe3d30>"
      ]
     },
     "metadata": {},
     "output_type": "display_data"
    }
   ],
   "source": [
    "%matplotlib inline\n",
    "bitrate, data = wav.read(new_name)\n",
    "plt.plot(data)\n",
    "plt.title(\"WAV File\")\n",
    "plt.xlabel(\"Time (x 10^(-5)s)\")\n",
    "plt.ylabel(\"Amplitude\")\n",
    "plt.show()"
   ]
  },
  {
   "cell_type": "code",
   "execution_count": 11,
   "metadata": {
    "collapsed": true
   },
   "outputs": [],
   "source": [
    "# wav_array contains normalized data\n",
    "wav_array, bitrate = read_wav_as_np(new_name)\n",
    "# wav_array is converted into blocks with zeroes padded to fill the empty space in last block if any\n",
    "wav_blocks_zero_padded = convert_np_audio_to_sample_blocks(wav_array, block_size)\n"
   ]
  },
  {
   "cell_type": "markdown",
   "metadata": {},
   "source": [
    "** Visualizing Zero Padded WAV File **\n"
   ]
  },
  {
   "cell_type": "code",
   "execution_count": 12,
   "metadata": {
    "collapsed": false
   },
   "outputs": [
    {
     "data": {
      "image/png": "[encoded data removed]",
      "text/plain": [
       "<matplotlib.figure.Figure at 0x7f2aa8fe3c18>"
      ]
     },
     "metadata": {},
     "output_type": "display_data"
    }
   ],
   "source": [
    "# Flattens the blocks into an array\n",
    "wav_array_zero_padded = convert_sample_blocks_to_np_audio(wav_blocks_zero_padded)\n",
    "plt.plot(wav_array_zero_padded)\n",
    "plt.title(\"Zero Padded WAV File\")\n",
    "plt.xlabel(\"Time (x 10^(-5)s)\")\n",
    "plt.ylabel(\"Amplitude\")\n",
    "plt.show()"
   ]
  },
  {
   "cell_type": "markdown",
   "metadata": {},
   "source": [
    "** Thus, zero padding does not change the waveform. It just makes the matrix computations easier. \n",
    "Now shift the zero padded wav blocks to the left by 1 column and use it for computing loss function during the training. Visualizing the shifted file.**"
   ]
  },
  {
   "cell_type": "code",
   "execution_count": 13,
   "metadata": {
    "collapsed": false
   },
   "outputs": [
    {
     "data": {
      "image/png": "[encoded data removed]",
      "text/plain": [
       "<matplotlib.figure.Figure at 0x7f2aa8cdd908>"
      ]
     },
     "metadata": {},
     "output_type": "display_data"
    }
   ],
   "source": [
    "shifted_wav_blocks_zero_padded = wav_blocks_zero_padded[1:]\n",
    "shifted_wav_array_zero_padded = convert_sample_blocks_to_np_audio(shifted_wav_blocks_zero_padded)\n",
    "plt.plot(shifted_wav_array_zero_padded)\n",
    "plt.title(\"Shifted WAV File\")\n",
    "plt.xlabel(\"Time (x 10^(-5)s)\")\n",
    "plt.ylabel(\"Amplitude\")\n",
    "plt.show()"
   ]
  },
  {
   "cell_type": "code",
   "execution_count": 14,
   "metadata": {
    "collapsed": false
   },
   "outputs": [
    {
     "name": "stdout",
     "output_type": "stream",
     "text": [
      "Dimension of wav blocks before fft:  (41, 44100)\n",
      "Dimension of the training dataset (wav blocks after fft):  (41, 88200)\n"
     ]
    }
   ],
   "source": [
    "# Fast fourier transforming the wav blocks into frequency domain\n",
    "print('Dimension of wav blocks before fft: ',np.shape(wav_blocks_zero_padded))\n",
    "\n",
    "X = time_blocks_to_fft_blocks(wav_blocks_zero_padded)\n",
    "Y = time_blocks_to_fft_blocks(shifted_wav_blocks_zero_padded)\n",
    "\n",
    "print('Dimension of the training dataset (wav blocks after fft): ',np.shape(X))"
   ]
  },
  {
   "cell_type": "markdown",
   "metadata": {},
   "source": [
    "**Visualizing the fast fourier transformed WAV blocks (X: Used for training, Y: Used for computing loss function)**"
   ]
  },
  {
   "cell_type": "code",
   "execution_count": 15,
   "metadata": {
    "collapsed": false
   },
   "outputs": [
    {
     "data": {
      "image/png": "[encoded data removed]",
      "text/plain": [
       "<matplotlib.figure.Figure at 0x7f2aa596aef0>"
      ]
     },
     "metadata": {},
     "output_type": "display_data"
    }
   ],
   "source": [
    "X_flat = np.concatenate(X)\n",
    "plt.plot(X_flat)\n",
    "plt.title(\"X\")\n",
    "plt.xlabel(\"Frequency\")\n",
    "plt.ylabel(\"Density\")\n",
    "plt.show()"
   ]
  },
  {
   "cell_type": "code",
   "execution_count": 16,
   "metadata": {
    "collapsed": false
   },
   "outputs": [
    {
     "data": {
      "image/png": "[encoded data removed]",
      "text/plain": [
       "<matplotlib.figure.Figure at 0x7f2aa8d1fc50>"
      ]
     },
     "metadata": {},
     "output_type": "display_data"
    }
   ],
   "source": [
    "Y_flat = np.concatenate(Y)\n",
    "plt.plot(Y_flat)\n",
    "plt.title(\"Y\")\n",
    "plt.xlabel(\"Frequency\")\n",
    "plt.ylabel(\"Density\")\n",
    "plt.show()"
   ]
  },
  {
   "cell_type": "code",
   "execution_count": 17,
   "metadata": {
    "collapsed": false
   },
   "outputs": [],
   "source": [
    "cur_seq = 0\n",
    "chunks_X = []\n",
    "chunks_Y = []\n",
    "max_seq_len = 10\n",
    "total_seq = len(X)\n",
    "while cur_seq + max_seq_len < total_seq:\n",
    "    chunks_X.append(X[cur_seq:cur_seq + max_seq_len])\n",
    "    chunks_Y.append(Y[cur_seq:cur_seq + max_seq_len])\n",
    "    cur_seq += max_seq_len\n",
    "# Number of examples\n",
    "num_examples = len(chunks_X) \n",
    "# Imaginary part requires the extra space\n",
    "num_dims_out = block_size * 2\n",
    "# Dimensions of the training dataset\n",
    "out_shape = (num_examples, max_seq_len, num_dims_out)\n",
    "x_data = np.zeros(out_shape)\n",
    "y_data = np.zeros(out_shape)\n",
    "# Populating the training dataset\n",
    "for n in range(num_examples):\n",
    "    for i in range(max_seq_len):\n",
    "        x_data[n][i] = chunks_X[n][i]\n",
    "        y_data[n][i] = chunks_Y[n][i]"
   ]
  },
  {
   "cell_type": "markdown",
   "metadata": {},
   "source": [
    "** Training dataset is ready! **\n",
    "** Building the model. **"
   ]
  },
  {
   "cell_type": "code",
   "execution_count": null,
   "metadata": {
    "collapsed": false
   },
   "outputs": [
    {
     "name": "stdout",
     "output_type": "stream",
     "text": [
      "Input layer size:  88200\n",
      "Hidden layer size:  1024\n"
     ]
    },
    {
     "name": "stderr",
     "output_type": "stream",
     "text": [
      "/home/subbu/anaconda3/lib/python3.5/site-packages/keras/layers/core.py:1015: UserWarning: TimeDistributedDense is deprecated, please use TimeDistributed(Dense(...)) instead.\n",
      "  warnings.warn('TimeDistributedDense is deprecated, '\n"
     ]
    }
   ],
   "source": [
    "num_frequency_dimensions = (np.shape(X))[1]\n",
    "num_hidden_dimensions = 1024\n",
    "print('Input layer size: ',num_frequency_dimensions)\n",
    "print('Hidden layer size: ',num_hidden_dimensions)\n",
    "# Sequential is a linear stack of layers\n",
    "model = Sequential()\n",
    "# This layer converts frequency space to hidden space\n",
    "model.add(TimeDistributedDense(input_dim=num_frequency_dimensions, output_dim=num_hidden_dimensions))\n",
    "# return_sequences=True implies return the entire output sequence & not just the last output\n",
    "model.add(LSTM(input_dim=num_hidden_dimensions, output_dim=num_hidden_dimensions, return_sequences=True))\n",
    "# This layer converts hidden space back to frequency space\n",
    "model.add(TimeDistributedDense(input_dim=num_hidden_dimensions, output_dim=num_frequency_dimensions))\n",
    "# Done building the model.Now, configure it for the learning process\n",
    "model.compile(loss='mean_squared_error', optimizer='rmsprop')"
   ]
  },
  {
   "cell_type": "code",
   "execution_count": null,
   "metadata": {
    "collapsed": false
   },
   "outputs": [
    {
     "name": "stdout",
     "output_type": "stream",
     "text": [
      "Iteration: 0\n",
      "Epoch 1/3\n",
      "4/4 [==============================] - 2s - loss: 215.9425\n",
      "Epoch 2/3\n",
      "4/4 [==============================] - 2s - loss: 215.9183\n",
      "Epoch 3/3\n",
      "4/4 [==============================] - 2s - loss: 215.6781\n",
      "Iteration: 3\n",
      "Epoch 1/3\n",
      "4/4 [==============================] - 1s - loss: 215.4013\n",
      "Epoch 2/3\n",
      "4/4 [==============================] - 1s - loss: 215.1780\n",
      "Epoch 3/3\n",
      "4/4 [==============================] - 1s - loss: 214.9787\n",
      "Training complete!\n",
      "[WARNING] /home/subbu/Desktop/Music Preprocessing/Weights already exists - overwrite? [y/n]y\n",
      "[TIP] Next time specify overwrite=True in save_weights!\n"
     ]
    }
   ],
   "source": [
    "# Number of iterations for training\n",
    "num_iters = 5\n",
    "# Number of iterations before we save our model\n",
    "epochs_per_iter = 3\n",
    "# Number of training examples pushed to the GPU per batch.\n",
    "batch_size = 5\n",
    "# Path to weights file\n",
    "weights_path = '/home/subbu/Desktop/Music Preprocessing/Weights'\n",
    "cur_iter = 0\n",
    "while cur_iter < num_iters:\n",
    "    print('Iteration: ' + str(cur_iter))\n",
    "    # Iterate over the training data in batches\n",
    "    history = model.fit(x_data, y_data, batch_size=batch_size, nb_epoch=epochs_per_iter, verbose=1, validation_split=0.0)\n",
    "    cur_iter += epochs_per_iter\n",
    "print('Training complete!')\n",
    "model.save_weights(weights_path)"
   ]
  },
  {
   "cell_type": "markdown",
   "metadata": {
    "collapsed": true
   },
   "source": [
    "** The training is complete and weights have been saved in the path specified! **"
   ]
  },
  {
   "cell_type": "markdown",
   "metadata": {},
   "source": [
    "** Generating the song. We use a seed sequence which serves as a starter for the song. The model predicts the next note based on the previous sequence. **"
   ]
  },
  {
   "cell_type": "code",
   "execution_count": null,
   "metadata": {
    "collapsed": false
   },
   "outputs": [],
   "source": [
    "# We take the first chunk of the training data itself for seed sequence.\n",
    "seed_seq = x_data[0]\n",
    "# Reshaping the sequence to feed to the RNN.\n",
    "seed_seq = np.reshape(seed_seq, (1, seed_seq.shape[0], seed_seq.shape[1]))\n",
    "# Generated song sequence is stored in output.\n",
    "output = []\n",
    "for it in range(max_seq_len):\n",
    "    # Generates new value\n",
    "    seedSeqNew = model._predict(seed_seq) \n",
    "    # Appends it to the output\n",
    "    if it == 0:\n",
    "        for i in range(seedSeqNew.shape[1]):\n",
    "            output.append(seedSeqNew[0][i].copy())\n",
    "    else:\n",
    "        output.append(seedSeqNew[0][seedSeqNew.shape[1]-1].copy()) \n",
    "    # newSeq contains the generated sequence.\n",
    "    newSeq = seedSeqNew[0][seedSeqNew.shape[1]-1]\n",
    "    # Reshaping the new sequence for concatenation.\n",
    "    newSeq = np.reshape(newSeq, (1, 1, newSeq.shape[0]))\n",
    "    # Appending the new sequence to the old sequence.\n",
    "    seed_seq = np.concatenate((seed_seq, newSeq), axis=1)"
   ]
  },
  {
   "cell_type": "code",
   "execution_count": null,
   "metadata": {
    "collapsed": false
   },
   "outputs": [],
   "source": [
    "# The path for the generated song\n",
    "song_path = '/home/subbu/Desktop/Music Preprocessing/gen_song.wav'\n",
    "# Reversing the conversions\n",
    "time_blocks = fft_blocks_to_time_blocks(output)\n",
    "song = convert_sample_blocks_to_np_audio(time_blocks)\n",
    "write_np_as_wav(song, sample_frequency, song_path)"
   ]
  },
  {
   "cell_type": "markdown",
   "metadata": {},
   "source": [
    "** Let's listen to the song! **"
   ]
  },
  {
   "cell_type": "code",
   "execution_count": null,
   "metadata": {
    "collapsed": false
   },
   "outputs": [],
   "source": [
    "Audio(song_path)"
   ]
  },
  {
   "cell_type": "markdown",
   "metadata": {},
   "source": [
    "** THE END. **"
   ]
  }
 ],
 "metadata": {
  "kernelspec": {
   "display_name": "Python 3",
   "language": "python",
   "name": "python3"
  },
  "language_info": {
   "codemirror_mode": {
    "name": "ipython",
    "version": 3
   },
   "file_extension": ".py",
   "mimetype": "text/x-python",
   "name": "python",
   "nbconvert_exporter": "python",
   "pygments_lexer": "ipython3",
   "version": "3.5.1"
  }
 },
 "nbformat": 4,
 "nbformat_minor": 0
}
